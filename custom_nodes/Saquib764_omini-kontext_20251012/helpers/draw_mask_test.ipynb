{
 "cells": [
  {
   "cell_type": "code",
   "execution_count": 1,
   "metadata": {},
   "outputs": [],
   "source": [
    "import os\n",
    "\n",
    "os.chdir(\"..\")\n"
   ]
  },
  {
   "cell_type": "code",
   "execution_count": 5,
   "metadata": {},
   "outputs": [],
   "source": [
    "\n",
    "from ipycanvas import Canvas\n",
    "from PIL import Image\n",
    "import numpy as np\n",
    "import time\n",
    "\n",
    "import cv2\n",
    "\n",
    "image_path = 'assets/scene_01.png'\n",
    "# Use an example image path or replace with your own\n",
    "save_path = 'current_canvas.png'\n",
    "\n",
    "\n",
    "is_mouse_down = False\n",
    "position_at_mouse_down = None\n",
    "position_at_mouse_up = None\n",
    "image = None\n",
    "canvas = Canvas(width=256, height=256, sync_image_data=True)\n",
    "\n",
    "\n",
    "def draw_rectangle(x0, y0, x1, y1, color='red', fill=False):\n",
    "    canvas.stroke_style = color\n",
    "    canvas.line_width = 3\n",
    "    canvas.stroke_rect(min(x0, x1), min(y0, y1), abs(x1 - x0), abs(y1 - y0))\n",
    "    if fill:\n",
    "        canvas.fill_style = color\n",
    "        canvas.fill_rect(min(x0, x1), min(y0, y1), abs(x1 - x0), abs(y1 - y0))\n",
    "        \n",
    "# Draw with red brush when dragging\n",
    "def handle_mouse_down(x, y):\n",
    "    global is_mouse_down, position_at_mouse_down\n",
    "    is_mouse_down = True\n",
    "    position_at_mouse_down = (x, y)\n",
    "    \n",
    "def handle_mouse_up(x, y):\n",
    "    global is_mouse_down, position_at_mouse_up, image\n",
    "    is_mouse_down = False\n",
    "    position_at_mouse_up = (x, y)\n",
    "    if position_at_mouse_down is not None:\n",
    "        # Draw the rectangle directly on the image array and update the canvas\n",
    "        img_arr = np.array(image)\n",
    "        x0, y0 = position_at_mouse_down\n",
    "        x1, y1 = x, y\n",
    "        # Draw rectangle on the numpy array (red color)\n",
    "        cv2.rectangle(\n",
    "            img_arr,\n",
    "            (int(x0), int(y0)),\n",
    "            (int(x1), int(y1)),\n",
    "            color=(255, 255, 255, 127),  # Red in RGB\n",
    "            thickness=-1\n",
    "        )\n",
    "        image = Image.fromarray(img_arr)\n",
    "        canvas.put_image_data(np.array(image))\n",
    "        # image = Image.fromarray(canvas.get_image_data())\n",
    "        image.save(save_path)\n",
    "\n",
    "\n",
    "\n",
    "def handle_mouse_move(x, y):\n",
    "    if not is_mouse_down:\n",
    "        return\n",
    "    # Draw rectangle from position_at_mouse_down to current (x, y)\n",
    "    if position_at_mouse_down is not None:\n",
    "        # Clear and redraw the image\n",
    "        canvas.put_image_data(np.array(image))\n",
    "        draw_rectangle(position_at_mouse_down[0], position_at_mouse_down[1], x, y)\n",
    "        pass\n",
    "\n",
    "# canvas.observe(save_to_file, \"image_data\")\n",
    "canvas.on_mouse_down(handle_mouse_down)\n",
    "canvas.on_mouse_move(handle_mouse_move)\n",
    "canvas.on_mouse_up(handle_mouse_up)\n",
    "\n",
    "\n",
    "def edit_image(image_path, _save_path = 'current_canvas.png'):\n",
    "    global image, save_path\n",
    "    save_path = _save_path\n",
    "    image = Image.open(image_path).convert(\"RGB\")\n",
    "    orig_w, orig_h = image.size\n",
    "    max_side = 512\n",
    "    if orig_w >= orig_h:\n",
    "        new_w = max_side\n",
    "        new_h = int(orig_h * max_side / orig_w)\n",
    "    else:\n",
    "        new_h = max_side\n",
    "        new_w = int(orig_w * max_side / orig_h)\n",
    "    image = image.resize((new_w, new_h), Image.LANCZOS)\n",
    "    canvas.width = new_w\n",
    "    canvas.height = new_h\n",
    "    # Draw image on canvas\n",
    "    canvas.put_image_data(np.array(image))\n",
    "\n",
    "    return canvas"
   ]
  },
  {
   "cell_type": "code",
   "execution_count": 7,
   "metadata": {},
   "outputs": [
    {
     "data": {
      "application/vnd.jupyter.widget-view+json": {
       "model_id": "2291c3f36139430da49894396499fa73",
       "version_major": 2,
       "version_minor": 0
      },
      "text/plain": [
       "Canvas(height=276, image_data=b'\\x89PNG\\r\\n\\x1a\\n\\x00\\x00\\x00\\rIHDR\\x00\\x00\\x02\\x00\\x00\\x00\\x01\\x14\\x08\\x06\\x0…"
      ]
     },
     "execution_count": 7,
     "metadata": {},
     "output_type": "execute_result"
    }
   ],
   "source": [
    "\n",
    "image_paths = ['assets/scene_01.png', 'assets/scene_02.png']  # Replace with your image path\n",
    "\n",
    "edit_image(image_paths[1], \"abc2.png\")\n"
   ]
  },
  {
   "cell_type": "code",
   "execution_count": null,
   "metadata": {},
   "outputs": [],
   "source": []
  }
 ],
 "metadata": {
  "kernelspec": {
   "display_name": "zustpy",
   "language": "python",
   "name": "python3"
  },
  "language_info": {
   "codemirror_mode": {
    "name": "ipython",
    "version": 3
   },
   "file_extension": ".py",
   "mimetype": "text/x-python",
   "name": "python",
   "nbconvert_exporter": "python",
   "pygments_lexer": "ipython3",
   "version": "3.12.2"
  }
 },
 "nbformat": 4,
 "nbformat_minor": 4
}
